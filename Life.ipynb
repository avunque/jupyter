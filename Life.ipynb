








<!DOCTYPE html>
<html lang="en">

<head>
  <meta charset="utf-8">
  <title>Jupyter Notebook Viewer</title>
  <meta name="viewport" content="width=device-width, initial-scale=1.0">
  <meta name="description" content="">
  <meta name="author" content="">
  
  <meta name="robots" content="noindex,nofollow">
  

  <!--NEW RELIC Start Perf Measurement-->
  
  <!--NREND-->

  <!-- Le styles -->
  <link href="/static/build/styles.css" rel="stylesheet">

  <!-- Le HTML5 shim, for IE6-8 support of HTML5 elements -->
  <!--[if lt IE 9]>
    <script src="http://html5shim.googlecode.com/svn/trunk/html5.js"></script>
  <![endif]-->

  <!-- Le fav and touch icons -->
  <link rel="shortcut icon" href="/static/ico/ipynb_icon_16x16.png">
  <link rel="apple-touch-icon-precomposed" sizes="144x144"
        href="/static/ico/apple-touch-icon-144-precomposed.png">
  <link rel="apple-touch-icon-precomposed" sizes="114x114"
        href="/static/ico/apple-touch-icon-114-precomposed.png">
  <link rel="apple-touch-icon-precomposed" sizes="72x72"
        href="/static/ico/apple-touch-icon-72-precomposed.png">
  <link rel="apple-touch-icon-precomposed"
        href="/static/ico/apple-touch-icon-57-precomposed.png">
  
  

  

  
  <meta name="twitter:card" content="summary">
  <meta name="twitter:title" content="Notebook on nbviewer">
  <meta name="twitter:description" content="Check out this Jupyter notebook!">

  
  <meta name="twitter:domain" content="nbviewer.jupyter.org">
  <meta name="twitter:image:src" content="http://ipython.org/ipython-doc/dev/_images/ipynb_icon_128x128.png">

  
    <link href="/static/build/notebook.css" rel="stylesheet">
  

  

  
    <script src="https://cdnjs.cloudflare.com/ajax/libs/mathjax/2.7.1/MathJax.js?config=TeX-AMS_HTML" type="text/javascript">
    </script>
    <script type="text/javascript">
      init_mathjax = function() {
        if (window.MathJax) {
          // MathJax loaded
          MathJax.Hub.Config({
            TeX: {
              equationNumbers: {
                autoNumber: "AMS",
                useLabelIds: true
              }
            },
            tex2jax: {
              inlineMath: [ ['$','$'], ["\\(","\\)"] ],
              displayMath: [ ['$$','$$'], ["\\[","\\]"] ],
              processEscapes: true,
              processEnvironments: true
            },
            displayAlign: 'center',
            "HTML-CSS": {
              styles: {'.MathJax_Display': {"margin": 0}},
              linebreaks: { automatic: true }
            }
          });
          MathJax.Hub.Queue(["Typeset", MathJax.Hub]);
        }
      }
      init_mathjax();
    </script>
  

  
    <script>
      (function() {
        function addWidgetsRenderer() {
          var mimeElement = document.querySelector('script[type="application/vnd.jupyter.widget-view+json"]');
          var scriptElement = document.createElement('script');
          var widgetRendererSrc = 'https://unpkg.com/@jupyter-widgets/html-manager@0.15/dist/embed-amd.js';
          var widgetState;

          try {
            widgetState = mimeElement && JSON.parse(mimeElement.innerHTML);

            if (widgetState && (widgetState.version_major < 2 || !widgetState.version_major)) {
              widgetRendererSrc = 'https://unpkg.com/jupyter-js-widgets@2.1/dist/embed.js';
            }
          } catch(e) {}

          scriptElement.src = widgetRendererSrc;
          document.body.appendChild(scriptElement);
        }

        document.addEventListener('DOMContentLoaded', addWidgetsRenderer);
      }());
    </script>
  

</head>

<body class="nbviewer">

  <!-- These are loaded at the top of the body so they are available to
       notebook cells when they are loaded below. -->
  <script src="/static/components/jquery/dist/jquery.min.js"></script>
  <script src="/static/components/requirejs/require.js"></script>
  <script src="/static/components/moment/min/moment.min.js"></script>
<!-- Navbar
================================================== -->
  <nav id="menubar" class="navbar navbar-default navbar-fixed-top" data-spy="affix">
    <div class="container">
      <div class="navbar-header">
        <button type="button" class="navbar-toggle collapsed" data-toggle="collapse" data-target=".navbar-collapse">
          <span class="sr-only">Toggle navigation</span>
          <i class="fa fa-bars"></i>
        </button>
        <a class="navbar-brand" href="/">
          <img src="/static/img/nav_logo.svg" width="159"/>
        </a>
      </div>

      <div class="collapse navbar-collapse">
        <ul class="nav navbar-nav navbar-right">
          <li>
            <a class="active" href="https://jupyter.org">JUPYTER</a>
          </li>
          <li>
    <a href="/faq" title="FAQ" >
      
        <span>FAQ</span>
      
    </a>
  </li>

          
  
    
  
    
      
        <li>
    <a href="script/url/norvig.com/ipython/Life.ipynb" title="View as Code" >
      <span class="fa fa-code fa-2x menu-icon"></span>
      <span class="menu-text">View as Code</span>
    </a>
  </li>
      
    
  

  
    <li>
    <a href="#" title="Python 3 Kernel" >
      <span class="fa fa-server fa-2x menu-icon"></span>
      <span class="menu-text">Python 3 Kernel</span>
    </a>
  </li>
  

  

  

  <li>
    <a href="http://norvig.com/ipython/Life.ipynb" title="Download Notebook" download>
      <span class="fa fa-download fa-2x menu-icon"></span>
      <span class="menu-text">Download Notebook</span>
    </a>
  </li>

        </ul>
      </div><!-- /.navbar-collapse -->
      
      
    </div>
  </nav>

  <div class="container container-main">
    
  
  <div id="notebook">
    <div id="notebook-container">
      <div class="cell border-box-sizing text_cell rendered"><div class="prompt input_prompt">
</div><div class="inner_cell">
<div class="text_cell_render border-box-sizing rendered_html">
<h1 id="John-Conway's-Game-of-Life">John Conway's Game of Life<a class="anchor-link" href="#John-Conway's-Game-of-Life">&#182;</a></h1><p>The cellular automata game <em>Life</em>, invented by the mathematician <a href="https://en.wikipedia.org/wiki/John_Horton_Conway">John Conway</a>, makes a fun programming exercise.  Let's review the <a href="https://en.wikipedia.org/wiki/Conway%27s_Game_of_Life">rules</a>:</p>
<p>The <em>world</em> of the Game of Life is an infinite two-dimensional orthogonal grid of <em>cells</em>, each of which is in one of two possible states, <em>live</em> or <em>empty</em>. Each cell has eight <em>neighbors</em>, the cells that are horizontally, vertically, or diagonally adjacent. At each step in time, the following rules are applied to create the next <em>generation</em>:</p>
<ul>
<li>Any live cell with two or three live neighbors lives on to the next generation.</li>
<li>Any empty cell with exactly three live neighbors becomes a live cell in the next generation.</li>
<li>All other cells are empty in the next generation.</li>
</ul>
<p>For example, in the diagram below, grey cells are live. In the transition from Generation 0 to 1, the cell marked "E" becomes empty (dies off) because it has zero live neighbors.  In the next transition, the cell marked "L" becomes live, because it has 3 live neighbors. All other cells stay the same.</p>
<table><tr><td><table>
  <tr>
    <td >&nbsp;&nbsp;&nbsp;&nbsp;
    <td >&nbsp;&nbsp;&nbsp;&nbsp;
    <td >&nbsp;&nbsp;&nbsp;&nbsp;
    <td >&nbsp;&nbsp;&nbsp;&nbsp;
    <td >&nbsp;&nbsp;&nbsp;&nbsp;
  <tr>
    <td >&nbsp;&nbsp;&nbsp;&nbsp;
    <td >&nbsp;&nbsp;&nbsp;&nbsp;
    <td >&nbsp;&nbsp;&nbsp;&nbsp;
    <td bgcolor=lightgrey>&nbsp;E&nbsp;
    <td >&nbsp;&nbsp;&nbsp;&nbsp;
  <tr>
    <td>&nbsp;&nbsp;&nbsp;
    <td bgcolor=lightgrey>&nbsp;&nbsp;&nbsp;
    <td >&nbsp;&nbsp;&nbsp;
    <td >&nbsp;&nbsp;&nbsp;
    <td >&nbsp;&nbsp;&nbsp;&nbsp;
  <tr>
    <td ></td>&nbsp;&nbsp;&nbsp;
    <td bgcolor=lightgrey>&nbsp;&nbsp;&nbsp;
    <td bgcolor=lightgrey>&nbsp;&nbsp;&nbsp;
    <td >&nbsp;&nbsp;&nbsp;
    <td >&nbsp;&nbsp;&nbsp;&nbsp;
  <tr>
    <td >&nbsp;&nbsp;&nbsp;
    <td >&nbsp;&nbsp;&nbsp;
    <td >&nbsp;&nbsp;&nbsp;
    <td >&nbsp;&nbsp;&nbsp;
    <td >&nbsp;&nbsp;&nbsp;&nbsp;
</table>
<br><center>Generation 0

<td><table>
  <tr>
    <td >&nbsp;&nbsp;&nbsp;
    <td >&nbsp;&nbsp;&nbsp;
    <td >&nbsp;&nbsp;&nbsp;
    <td >&nbsp;&nbsp;&nbsp;
    <td >&nbsp;&nbsp;&nbsp;&nbsp;
  <tr>
    <td >&nbsp;&nbsp;&nbsp;&nbsp;
    <td >&nbsp;&nbsp;&nbsp;&nbsp;
    <td >&nbsp;&nbsp;&nbsp;&nbsp;
    <td >&nbsp;&nbsp;&nbsp;&nbsp;
    <td >&nbsp;&nbsp;&nbsp;&nbsp;
  <tr>
    <td>&nbsp;&nbsp;&nbsp;
    <td bgcolor=lightgrey>&nbsp;&nbsp;&nbsp;
    <td >&nbsp;L
    <td >&nbsp;&nbsp;&nbsp;
    <td >&nbsp;&nbsp;&nbsp;&nbsp;
  <tr>
    <td ></td>&nbsp;&nbsp;&nbsp;
    <td bgcolor=lightgrey>&nbsp;&nbsp;&nbsp;
    <td bgcolor=lightgrey>&nbsp;&nbsp;&nbsp;
    <td >&nbsp;&nbsp;&nbsp;
    <td >&nbsp;&nbsp;&nbsp;&nbsp;
  </tr>
  <tr>
    <td >&nbsp;&nbsp;&nbsp;
    <td >&nbsp;&nbsp;&nbsp;
    <td >&nbsp;&nbsp;&nbsp;
    <td >&nbsp;&nbsp;&nbsp;
    <td >&nbsp;&nbsp;&nbsp;&nbsp;
  </tr>
</table>
<br><center>Generation 1

<td><table>
  <tr>
    <td >&nbsp;&nbsp;&nbsp;
    <td >&nbsp;&nbsp;&nbsp;
    <td >&nbsp;&nbsp;&nbsp;
    <td >&nbsp;&nbsp;&nbsp;
    <td >&nbsp;&nbsp;&nbsp;&nbsp;
  <tr>
    <td >&nbsp;&nbsp;&nbsp;&nbsp;
    <td >&nbsp;&nbsp;&nbsp;&nbsp;
    <td >&nbsp;&nbsp;&nbsp;&nbsp;
    <td >&nbsp;&nbsp;&nbsp;&nbsp;
    <td >&nbsp;&nbsp;&nbsp;&nbsp;
  <tr>
    <td>&nbsp;&nbsp;&nbsp;
    <td bgcolor=lightgrey>&nbsp;&nbsp;&nbsp;
    <td bgcolor=lightgrey>&nbsp;&nbsp;&nbsp;
    <td >&nbsp;&nbsp;&nbsp;
    <td >&nbsp;&nbsp;&nbsp;&nbsp;
  <tr>
    <td ></td>&nbsp;&nbsp;&nbsp;
    <td bgcolor=lightgrey>&nbsp;&nbsp;&nbsp;
    <td bgcolor=lightgrey>&nbsp;&nbsp;&nbsp;
    <td >&nbsp;&nbsp;&nbsp;
    <td >&nbsp;&nbsp;&nbsp;&nbsp;
  </tr>
  <tr>
    <td >&nbsp;&nbsp;&nbsp;
    <td >&nbsp;&nbsp;&nbsp;
    <td >&nbsp;&nbsp;&nbsp;
    <td >&nbsp;&nbsp;&nbsp;
    <td >&nbsp;&nbsp;&nbsp;&nbsp;
  </tr>
</table>
<br><center>Generation 2
</table><p>The world continues to evolve by these rules for as long as you care to observe.</p>
<h1 id="Developing-a-Life-Program">Developing a Life Program<a class="anchor-link" href="#Developing-a-Life-Program">&#182;</a></h1><p>To create a program to play Life, start with the vocabulary of concepts:</p>
<ul>
<li><strong>World</strong></li>
<li><strong>Cell</strong></li>
<li><strong>Live/Empty</strong></li>
<li><strong>Neighbors</strong></li>
<li><strong>Next Generation</strong></li>
<li><strong>Display</strong></li>
<li><strong>Live Neighbor Counts</strong></li>
</ul>
<p>and consider how to implement them:</p>
<ul>
<li><p><strong>World</strong>: The state of the world must represent which cells are empty and which are live. The tricky part is that the number of cells is infinite, and we can't store an infinite array in a finite computer.  I can think of three ways to deal with this problem:</p>
<ol>
<li><strong>Change the rules</strong>; make the world finite instead of infinite. (Cells at the edge of the world have fewer neighbors, or perhaps they wrap around to the other side of the world.)</li>
<li><p>Use a <strong>finite rectangular window</strong> that covers all the live cells in the infinite grid. 
<br>Example: <code>world = [[0, 0, 0, 0, 0], [0, 0, 0, 1, 0], [0, 1, 0, 0, 0], [0, 1, 1, 0, 0], [0, 0, 0, 0, 0]]</code></p>
</li>
<li><p>Represent a world as a <strong>set of live cells.</strong>  This set will grow and shrink in size from one generation to the next, but we don't have to worry about overflowing the edges of an array.
<br>Example: <code>world = {(3, 1), (1, 2), (1, 3), (2, 3)}</code> 
<br>I will go with this choice.</p>
</li>
</ol>
</li>
</ul>
<ul>
<li><strong>Cell</strong>: Each cell will be represented as an (x, y) pair of integer coordinates. <br>Example: <code>cell = (1, 2)</code>.</li>
<li><strong>Live/Empty</strong>: 
A cell is live if it is a member of the set of live cells. 
<br>Example: "<code>cell in world</code>" is True, given the definition of <code>cell</code> and <code>world</code> above.</li>
<li><p><strong>Neighbors</strong>:  The cell <code>(x, y)</code> has eight neighbors, formed by adding or subtracting 1 from <code>x</code> or <code>y</code> or both. We can define
a function <code>neighbors(cell)</code> to return this set.
<br>Example: <code>neighbors((8, 8)) == [(7, 7), (8, 7), (9, 7), (7, 8), (9, 8), (7, 9), (8, 9), (9, 9)]</code></p>
<table>
<tr style="height:3em">
  <td class="tg-031e">(x-1, y-1)
  <td class="tg-031e">(x, y-1)
  <td class="tg-031e">(x+1, y-1)
<tr style="height:3em">
  <td class="tg-031e">(x-1, y)</td>
  <td bgcolor="lightgrey">(x, y)</td>
  <td class="tg-031e">(x+1, y)</td>
<tr style="height:3em">
  <td class="tg-031e">(x-1, y+1)</td>
  <td class="tg-031e">(x, y+1)</td>
  <td class="tg-s6z2">(x+1, y+1)</td>
</tr>
</table></li>
<li><p><strong>Display</strong>: We will need some way to display the state of the world. Let's defer that for now.</p>
</li>
<li><p><strong>Next Generation</strong>: We can define a function, <code>next_generation(world)</code>, that takes a world as input and returns
a new world with the new set of live cells according to the rules.
Example: <code>next_generation({(3, 1), (1, 2), (1, 3), (2, 3)}) == {(1, 2), (1, 3), (2, 3)}</code></p>
</li>
<li><p><strong>Live Neighbor Counts</strong>: I need to know how many live neighbors each cell has. A good way to represent this is a dict of <code>{(x, y): count}</code>. But which cells need to be the keys of this dict? We can start with the live cells, and also add any cells neighboring the live cells. An efficient way to generate this dict is to create a <code>Counter</code> and pass it every neighbor of every live cell. This may feel like we're doing the counting "backwards." Instead of asking "for each cell, how many live neighbors does it have?" we are saying "for each live cell, increment the count of each of its neighbors." The two amount to the same thing because <em>neighbor</em> is symmetric&mdash;if P is a neighbor of Q, then Q is a neighbor of P. Below we see the neighbor counts for each of the three generations:</p>
</li>
</ul>
<table><tr>

<td><table>
  <tr>
    <td >&nbsp;&nbsp;&nbsp;
    <td >&nbsp;&nbsp;&nbsp;
    <td >&nbsp;&nbsp;1&nbsp;
    <td >&nbsp;&nbsp;1&nbsp;
    <td >&nbsp;&nbsp;1&nbsp;
  <tr>
    <td >&nbsp;&nbsp;1&nbsp;
    <td >&nbsp;&nbsp;1&nbsp;
    <td >&nbsp;&nbsp;2&nbsp;
    <td bgcolor=lightgrey>&nbsp;&nbsp;&nbsp;&nbsp;
    <td >&nbsp;&nbsp;1&nbsp;
  <tr>
    <td>&nbsp;&nbsp;2&nbsp;
    <td bgcolor=lightgrey>&nbsp;&nbsp;2&nbsp;
    <td >&nbsp;&nbsp;4&nbsp;
    <td >&nbsp;&nbsp;2&nbsp;
    <td >&nbsp;&nbsp;1&nbsp;
  <tr>
    <td >&nbsp;&nbsp;2&nbsp;
    <td bgcolor=lightgrey>&nbsp;&nbsp;2&nbsp;
    <td bgcolor=lightgrey>&nbsp;&nbsp;2&nbsp;
    <td >&nbsp;&nbsp;1&nbsp;
    <td >&nbsp;&nbsp;&nbsp;
  </tr>
  <tr>
    <td >&nbsp;&nbsp;1&nbsp;
    <td >&nbsp;&nbsp;2&nbsp;
    <td >&nbsp;&nbsp;2&nbsp;
    <td >&nbsp;&nbsp;1&nbsp;
    <td >&nbsp;&nbsp;&nbsp;
  </tr>
</table>
<br><center>Generation 0

<td><table>
  <tr>
    <td >&nbsp;&nbsp;&nbsp;
    <td >&nbsp;&nbsp;&nbsp;
    <td >&nbsp;&nbsp;&nbsp;
    <td >&nbsp;&nbsp;&nbsp;
    <td >&nbsp;&nbsp;&nbsp;&nbsp;
  <tr>
    <td >&nbsp;&nbsp;1&nbsp;
    <td >&nbsp;&nbsp;1&nbsp;
    <td >&nbsp;&nbsp;1&nbsp;
    <td >&nbsp;&nbsp;&nbsp;&nbsp;
    <td >&nbsp;&nbsp;&nbsp;
  <tr>
    <td>&nbsp;&nbsp;2&nbsp;
    <td bgcolor=lightgrey>&nbsp;&nbsp;2&nbsp;
    <td >&nbsp;&nbsp;3&nbsp;
    <td >&nbsp;&nbsp;1&nbsp;
    <td >&nbsp;&nbsp;&nbsp;
  <tr>
    <td >&nbsp;&nbsp;2&nbsp;
    <td bgcolor=lightgrey>&nbsp;&nbsp;2&nbsp;
    <td bgcolor=lightgrey>&nbsp;&nbsp;2&nbsp;
    <td >&nbsp;&nbsp;1&nbsp;
    <td >&nbsp;&nbsp;&nbsp;
  </tr>
  <tr>
    <td >&nbsp;&nbsp;1&nbsp;
    <td >&nbsp;&nbsp;2&nbsp;
    <td >&nbsp;&nbsp;2&nbsp;
    <td >&nbsp;&nbsp;1&nbsp;
    <td >&nbsp;&nbsp;&nbsp;
  </tr>
</table>
<br><center>Generation 1

<td><table>
  <tr>
    <td >&nbsp;&nbsp;&nbsp;
    <td >&nbsp;&nbsp;&nbsp;
    <td >&nbsp;&nbsp;&nbsp;
    <td >&nbsp;&nbsp;&nbsp;
    <td >&nbsp;&nbsp;&nbsp;&nbsp;
  <tr>
    <td >&nbsp;&nbsp;1&nbsp;
    <td >&nbsp;&nbsp;2&nbsp;
    <td >&nbsp;&nbsp;2&nbsp;
    <td >&nbsp;&nbsp;1&nbsp;&nbsp;
    <td >&nbsp;&nbsp;&nbsp;
  <tr>
    <td>&nbsp;&nbsp;2&nbsp;
    <td bgcolor=lightgrey>&nbsp;&nbsp;3&nbsp;
    <td bgcolor=lightgrey>&nbsp;&nbsp;3&nbsp;
    <td >&nbsp;&nbsp;2&nbsp;
    <td >&nbsp;&nbsp;&nbsp;
  <tr>
    <td >&nbsp;&nbsp;2&nbsp;
    <td bgcolor=lightgrey>&nbsp;&nbsp;3&nbsp;
    <td bgcolor=lightgrey>&nbsp;&nbsp;3&nbsp;
    <td >&nbsp;&nbsp;2&nbsp;
    <td >&nbsp;&nbsp;&nbsp;
  </tr>
  <tr>
    <td >&nbsp;&nbsp;1&nbsp;
    <td >&nbsp;&nbsp;2&nbsp;
    <td >&nbsp;&nbsp;2&nbsp;
    <td >&nbsp;&nbsp;1&nbsp;
    <td >&nbsp;&nbsp;&nbsp;
  </tr>
</table>
<br><center>Generation 2


</table><p>Here is the implementation.Note that in <code>next_generation</code> the <code>neighbor_counts</code> is used two ways: <code>possible_cells</code> is used to iterate over all cells that might be live, and <code>counts</code> is used to check if a cell has the right number of neighbors.</p>

</div>
</div>
</div>
<div class="cell border-box-sizing code_cell rendered">
<div class="input">
<div class="prompt input_prompt">In&nbsp;[1]:</div>
<div class="inner_cell">
    <div class="input_area">
<div class=" highlight hl-ipython3"><pre><span></span><span class="kn">from</span> <span class="nn">collections</span> <span class="kn">import</span> <span class="n">Counter</span>

<span class="k">def</span> <span class="nf">next_generation</span><span class="p">(</span><span class="n">world</span><span class="p">):</span>
    <span class="s2">&quot;The set of live cells in the next generation.&quot;</span>
    <span class="n">possible_cells</span> <span class="o">=</span> <span class="n">counts</span> <span class="o">=</span> <span class="n">neighbor_counts</span><span class="p">(</span><span class="n">world</span><span class="p">)</span>
    <span class="k">return</span> <span class="p">{</span><span class="n">cell</span> <span class="k">for</span> <span class="n">cell</span> <span class="ow">in</span> <span class="n">possible_cells</span>
            <span class="k">if</span> <span class="p">(</span><span class="n">counts</span><span class="p">[</span><span class="n">cell</span><span class="p">]</span> <span class="o">==</span> <span class="mi">3</span><span class="p">)</span> 
            <span class="ow">or</span> <span class="p">(</span><span class="n">counts</span><span class="p">[</span><span class="n">cell</span><span class="p">]</span> <span class="o">==</span> <span class="mi">2</span> <span class="ow">and</span> <span class="n">cell</span> <span class="ow">in</span> <span class="n">world</span><span class="p">)}</span>

<span class="k">def</span> <span class="nf">neighbor_counts</span><span class="p">(</span><span class="n">world</span><span class="p">):</span>
    <span class="s2">&quot;A {cell: int} counter of the number of live neighbors for each cell that has neighbors.&quot;</span>
    <span class="k">return</span> <span class="n">Counter</span><span class="p">(</span><span class="n">nb</span> <span class="k">for</span> <span class="n">cell</span> <span class="ow">in</span> <span class="n">world</span> 
                      <span class="k">for</span> <span class="n">nb</span> <span class="ow">in</span> <span class="n">neighbors</span><span class="p">(</span><span class="n">cell</span><span class="p">))</span>

<span class="k">def</span> <span class="nf">neighbors</span><span class="p">(</span><span class="n">cell</span><span class="p">):</span>
    <span class="s2">&quot;All 8 adjacent neighbors of cell.&quot;</span>
    <span class="p">(</span><span class="n">x</span><span class="p">,</span> <span class="n">y</span><span class="p">)</span> <span class="o">=</span> <span class="n">cell</span>
    <span class="k">return</span> <span class="p">[(</span><span class="n">x</span><span class="o">-</span><span class="mi">1</span><span class="p">,</span> <span class="n">y</span><span class="o">-</span><span class="mi">1</span><span class="p">),</span> <span class="p">(</span><span class="n">x</span><span class="p">,</span> <span class="n">y</span><span class="o">-</span><span class="mi">1</span><span class="p">),</span> <span class="p">(</span><span class="n">x</span><span class="o">+</span><span class="mi">1</span><span class="p">,</span> <span class="n">y</span><span class="o">-</span><span class="mi">1</span><span class="p">),</span> 
            <span class="p">(</span><span class="n">x</span><span class="o">-</span><span class="mi">1</span><span class="p">,</span> <span class="n">y</span><span class="p">),</span>             <span class="p">(</span><span class="n">x</span><span class="o">+</span><span class="mi">1</span><span class="p">,</span> <span class="n">y</span><span class="p">),</span> 
            <span class="p">(</span><span class="n">x</span><span class="o">-</span><span class="mi">1</span><span class="p">,</span> <span class="n">y</span><span class="o">+</span><span class="mi">1</span><span class="p">),</span> <span class="p">(</span><span class="n">x</span><span class="p">,</span> <span class="n">y</span><span class="o">+</span><span class="mi">1</span><span class="p">),</span> <span class="p">(</span><span class="n">x</span><span class="o">+</span><span class="mi">1</span><span class="p">,</span> <span class="n">y</span><span class="o">+</span><span class="mi">1</span><span class="p">)]</span>
</pre></div>

    </div>
</div>
</div>

</div>
<div class="cell border-box-sizing text_cell rendered"><div class="prompt input_prompt">
</div><div class="inner_cell">
<div class="text_cell_render border-box-sizing rendered_html">
<p>We can see how this works:</p>

</div>
</div>
</div>
<div class="cell border-box-sizing code_cell rendered">
<div class="input">
<div class="prompt input_prompt">In&nbsp;[2]:</div>
<div class="inner_cell">
    <div class="input_area">
<div class=" highlight hl-ipython3"><pre><span></span><span class="n">world</span> <span class="o">=</span> <span class="p">{(</span><span class="mi">3</span><span class="p">,</span> <span class="mi">1</span><span class="p">),</span> <span class="p">(</span><span class="mi">1</span><span class="p">,</span> <span class="mi">2</span><span class="p">),</span> <span class="p">(</span><span class="mi">1</span><span class="p">,</span> <span class="mi">3</span><span class="p">),</span> <span class="p">(</span><span class="mi">2</span><span class="p">,</span> <span class="mi">3</span><span class="p">)}</span>
<span class="n">next_generation</span><span class="p">(</span><span class="n">world</span><span class="p">)</span>
</pre></div>

    </div>
</div>
</div>

<div class="output_wrapper">
<div class="output">


<div class="output_area">

    <div class="prompt output_prompt">Out[2]:</div>




<div class="output_text output_subarea output_execute_result">
<pre>{(1, 2), (1, 3), (2, 3)}</pre>
</div>

</div>

</div>
</div>

</div>
<div class="cell border-box-sizing code_cell rendered">
<div class="input">
<div class="prompt input_prompt">In&nbsp;[3]:</div>
<div class="inner_cell">
    <div class="input_area">
<div class=" highlight hl-ipython3"><pre><span></span><span class="n">next_generation</span><span class="p">(</span><span class="n">next_generation</span><span class="p">(</span><span class="n">world</span><span class="p">))</span>
</pre></div>

    </div>
</div>
</div>

<div class="output_wrapper">
<div class="output">


<div class="output_area">

    <div class="prompt output_prompt">Out[3]:</div>




<div class="output_text output_subarea output_execute_result">
<pre>{(1, 2), (1, 3), (2, 2), (2, 3)}</pre>
</div>

</div>

</div>
</div>

</div>
<div class="cell border-box-sizing code_cell rendered">
<div class="input">
<div class="prompt input_prompt">In&nbsp;[4]:</div>
<div class="inner_cell">
    <div class="input_area">
<div class=" highlight hl-ipython3"><pre><span></span><span class="n">neighbors</span><span class="p">((</span><span class="mi">2</span><span class="p">,</span> <span class="mi">4</span><span class="p">))</span>
</pre></div>

    </div>
</div>
</div>

<div class="output_wrapper">
<div class="output">


<div class="output_area">

    <div class="prompt output_prompt">Out[4]:</div>




<div class="output_text output_subarea output_execute_result">
<pre>[(1, 3), (2, 3), (3, 3), (1, 4), (3, 4), (1, 5), (2, 5), (3, 5)]</pre>
</div>

</div>

</div>
</div>

</div>
<div class="cell border-box-sizing code_cell rendered">
<div class="input">
<div class="prompt input_prompt">In&nbsp;[5]:</div>
<div class="inner_cell">
    <div class="input_area">
<div class=" highlight hl-ipython3"><pre><span></span><span class="n">neighbor_counts</span><span class="p">(</span><span class="n">world</span><span class="p">)</span>
</pre></div>

    </div>
</div>
</div>

<div class="output_wrapper">
<div class="output">


<div class="output_area">

    <div class="prompt output_prompt">Out[5]:</div>




<div class="output_text output_subarea output_execute_result">
<pre>Counter({(0, 1): 1,
         (0, 2): 2,
         (0, 3): 2,
         (0, 4): 1,
         (1, 1): 1,
         (1, 2): 2,
         (1, 3): 2,
         (1, 4): 2,
         (2, 0): 1,
         (2, 1): 2,
         (2, 2): 4,
         (2, 3): 2,
         (2, 4): 2,
         (3, 0): 1,
         (3, 2): 2,
         (3, 3): 1,
         (3, 4): 1,
         (4, 0): 1,
         (4, 1): 1,
         (4, 2): 1})</pre>
</div>

</div>

</div>
</div>

</div>
<div class="cell border-box-sizing text_cell rendered"><div class="prompt input_prompt">
</div><div class="inner_cell">
<div class="text_cell_render border-box-sizing rendered_html">
<p><code>run</code> is a function to play n generations of Life:</p>

</div>
</div>
</div>
<div class="cell border-box-sizing code_cell rendered">
<div class="input">
<div class="prompt input_prompt">In&nbsp;[6]:</div>
<div class="inner_cell">
    <div class="input_area">
<div class=" highlight hl-ipython3"><pre><span></span><span class="k">def</span> <span class="nf">run</span><span class="p">(</span><span class="n">world</span><span class="p">,</span> <span class="n">n</span><span class="p">):</span>
    <span class="s2">&quot;Run the world for n generations. No display; just return the nth generation.&quot;</span>
    <span class="k">for</span> <span class="n">g</span> <span class="ow">in</span> <span class="nb">range</span><span class="p">(</span><span class="n">n</span><span class="p">):</span>
        <span class="n">world</span> <span class="o">=</span> <span class="n">next_generation</span><span class="p">(</span><span class="n">world</span><span class="p">)</span>
    <span class="k">return</span> <span class="n">world</span>
</pre></div>

    </div>
</div>
</div>

</div>
<div class="cell border-box-sizing code_cell rendered">
<div class="input">
<div class="prompt input_prompt">In&nbsp;[7]:</div>
<div class="inner_cell">
    <div class="input_area">
<div class=" highlight hl-ipython3"><pre><span></span><span class="n">run</span><span class="p">(</span><span class="n">world</span><span class="p">,</span> <span class="mi">100</span><span class="p">)</span>
</pre></div>

    </div>
</div>
</div>

<div class="output_wrapper">
<div class="output">


<div class="output_area">

    <div class="prompt output_prompt">Out[7]:</div>




<div class="output_text output_subarea output_execute_result">
<pre>{(1, 2), (1, 3), (2, 2), (2, 3)}</pre>
</div>

</div>

</div>
</div>

</div>
<div class="cell border-box-sizing text_cell rendered"><div class="prompt input_prompt">
</div><div class="inner_cell">
<div class="text_cell_render border-box-sizing rendered_html">
<h1 id="Display">Display<a class="anchor-link" href="#Display">&#182;</a></h1><p>Now let's see how to display each generation. We'll consider a window on the infinite plane, specified as a range of <code>Xs</code> and <code>Ys</code> coordinates. The function <code>picture</code> turns a world into a string showing what the world looks like, and <code>display_run</code> runs the world, displaying the picture at each step.</p>

</div>
</div>
</div>
<div class="cell border-box-sizing code_cell rendered">
<div class="input">
<div class="prompt input_prompt">In&nbsp;[8]:</div>
<div class="inner_cell">
    <div class="input_area">
<div class=" highlight hl-ipython3"><pre><span></span><span class="kn">import</span> <span class="nn">time</span>
<span class="kn">from</span> <span class="nn">IPython.display</span> <span class="kn">import</span> <span class="n">clear_output</span><span class="p">,</span> <span class="n">display_html</span>

<span class="n">LIVE</span>  <span class="o">=</span> <span class="s1">&#39;@&#39;</span>
<span class="n">EMPTY</span> <span class="o">=</span> <span class="s1">&#39;.&#39;</span>
<span class="n">PAD</span>   <span class="o">=</span> <span class="s1">&#39; &#39;</span>

<span class="k">def</span> <span class="nf">display_run</span><span class="p">(</span><span class="n">world</span><span class="p">,</span> <span class="n">n</span><span class="o">=</span><span class="mi">10</span><span class="p">,</span> <span class="n">Xs</span><span class="o">=</span><span class="nb">range</span><span class="p">(</span><span class="mi">10</span><span class="p">),</span> <span class="n">Ys</span><span class="o">=</span><span class="nb">range</span><span class="p">(</span><span class="mi">10</span><span class="p">),</span> <span class="n">pause</span><span class="o">=</span><span class="mf">0.1</span><span class="p">):</span>
    <span class="s2">&quot;Step and display the world for the given number of generations.&quot;</span>
    <span class="k">for</span> <span class="n">g</span> <span class="ow">in</span> <span class="nb">range</span><span class="p">(</span><span class="n">n</span> <span class="o">+</span> <span class="mi">1</span><span class="p">):</span>
        <span class="n">clear_output</span><span class="p">()</span>
        <span class="n">display_html</span><span class="p">(</span><span class="s1">&#39;Generation </span><span class="si">{}</span><span class="s1">, Population </span><span class="si">{}</span><span class="se">\n</span><span class="si">{}</span><span class="s1">&#39;</span>
                     <span class="o">.</span><span class="n">format</span><span class="p">(</span><span class="n">g</span><span class="p">,</span> <span class="nb">len</span><span class="p">(</span><span class="n">world</span><span class="p">),</span> <span class="n">pre</span><span class="p">(</span><span class="n">picture</span><span class="p">(</span><span class="n">world</span><span class="p">,</span> <span class="n">Xs</span><span class="p">,</span> <span class="n">Ys</span><span class="p">))),</span> 
                     <span class="n">raw</span><span class="o">=</span><span class="kc">True</span><span class="p">)</span>
        <span class="n">time</span><span class="o">.</span><span class="n">sleep</span><span class="p">(</span><span class="n">pause</span><span class="p">)</span>
        <span class="n">world</span> <span class="o">=</span> <span class="n">next_generation</span><span class="p">(</span><span class="n">world</span><span class="p">)</span>
        
<span class="k">def</span> <span class="nf">pre</span><span class="p">(</span><span class="n">text</span><span class="p">):</span> <span class="k">return</span> <span class="s1">&#39;&lt;pre&gt;&#39;</span> <span class="o">+</span> <span class="n">text</span> <span class="o">+</span> <span class="s1">&#39;&lt;/pre&gt;&#39;</span>
        
<span class="k">def</span> <span class="nf">picture</span><span class="p">(</span><span class="n">world</span><span class="p">,</span> <span class="n">Xs</span><span class="p">,</span> <span class="n">Ys</span><span class="p">):</span>
    <span class="s2">&quot;Return a picture: a grid of characters representing the cells in this window.&quot;</span>
    <span class="k">def</span> <span class="nf">row</span><span class="p">(</span><span class="n">y</span><span class="p">):</span> <span class="k">return</span> <span class="n">PAD</span><span class="o">.</span><span class="n">join</span><span class="p">(</span><span class="n">LIVE</span> <span class="k">if</span> <span class="p">(</span><span class="n">x</span><span class="p">,</span> <span class="n">y</span><span class="p">)</span> <span class="ow">in</span> <span class="n">world</span> <span class="k">else</span> <span class="n">EMPTY</span> <span class="k">for</span> <span class="n">x</span> <span class="ow">in</span> <span class="n">Xs</span><span class="p">)</span>
    <span class="k">return</span> <span class="s1">&#39;</span><span class="se">\n</span><span class="s1">&#39;</span><span class="o">.</span><span class="n">join</span><span class="p">(</span><span class="n">row</span><span class="p">(</span><span class="n">y</span><span class="p">)</span> <span class="k">for</span> <span class="n">y</span> <span class="ow">in</span> <span class="n">Ys</span><span class="p">)</span>
</pre></div>

    </div>
</div>
</div>

</div>
<div class="cell border-box-sizing code_cell rendered">
<div class="input">
<div class="prompt input_prompt">In&nbsp;[9]:</div>
<div class="inner_cell">
    <div class="input_area">
<div class=" highlight hl-ipython3"><pre><span></span><span class="nb">print</span><span class="p">(</span><span class="n">picture</span><span class="p">(</span><span class="n">world</span><span class="p">,</span> <span class="nb">range</span><span class="p">(</span><span class="mi">5</span><span class="p">),</span> <span class="nb">range</span><span class="p">(</span><span class="mi">5</span><span class="p">)))</span>
</pre></div>

    </div>
</div>
</div>

<div class="output_wrapper">
<div class="output">


<div class="output_area">

    <div class="prompt"></div>


<div class="output_subarea output_stream output_stdout output_text">
<pre>. . . . .
. . . @ .
. @ . . .
. @ @ . .
. . . . .
</pre>
</div>
</div>

</div>
</div>

</div>
<div class="cell border-box-sizing code_cell rendered">
<div class="input">
<div class="prompt input_prompt">In&nbsp;[10]:</div>
<div class="inner_cell">
    <div class="input_area">
<div class=" highlight hl-ipython3"><pre><span></span><span class="n">display_run</span><span class="p">(</span><span class="n">world</span><span class="p">,</span> <span class="mi">10</span><span class="p">,</span> <span class="nb">range</span><span class="p">(</span><span class="mi">5</span><span class="p">),</span> <span class="nb">range</span><span class="p">(</span><span class="mi">5</span><span class="p">))</span>
</pre></div>

    </div>
</div>
</div>

<div class="output_wrapper">
<div class="output">


<div class="output_area">

    <div class="prompt"></div>



<div class="output_html rendered_html output_subarea ">
Generation 10, Population 4
<pre>. . . . .
. . . . .
. @ @ . .
. @ @ . .
. . . . .</pre>
</div>

</div>

</div>
</div>

</div>
<div class="cell border-box-sizing text_cell rendered"><div class="prompt input_prompt">
</div><div class="inner_cell">
<div class="text_cell_render border-box-sizing rendered_html">
<h1 id="Interesting-Worlds">Interesting Worlds<a class="anchor-link" href="#Interesting-Worlds">&#182;</a></h1><p>Now let's take a look at some initial worlds that <em>Life</em> enthusiasts have discovered. It would be tedious to define these with an explicit set of <code>(x, y)</code> coordinates, so we will define the function <code>shape</code> that takes a picture as input and returns a world; <code>shape</code> and <code>picture</code> are more-or-less inverses.</p>

</div>
</div>
</div>
<div class="cell border-box-sizing code_cell rendered">
<div class="input">
<div class="prompt input_prompt">In&nbsp;[11]:</div>
<div class="inner_cell">
    <div class="input_area">
<div class=" highlight hl-ipython3"><pre><span></span><span class="k">def</span> <span class="nf">shape</span><span class="p">(</span><span class="n">picture</span><span class="p">,</span> <span class="n">offset</span><span class="o">=</span><span class="p">(</span><span class="mi">3</span><span class="p">,</span> <span class="mi">3</span><span class="p">)):</span>
    <span class="s2">&quot;Convert a graphical picture (e.g. &#39;@ @ .</span><span class="se">\n</span><span class="s2">. @@&#39;) into a world (set of cells).&quot;</span>
    <span class="n">cells</span> <span class="o">=</span> <span class="p">{(</span><span class="n">x</span><span class="p">,</span> <span class="n">y</span><span class="p">)</span> 
             <span class="k">for</span> <span class="p">(</span><span class="n">y</span><span class="p">,</span> <span class="n">row</span><span class="p">)</span> <span class="ow">in</span> <span class="nb">enumerate</span><span class="p">(</span><span class="n">picture</span><span class="o">.</span><span class="n">splitlines</span><span class="p">())</span>
             <span class="k">for</span> <span class="p">(</span><span class="n">x</span><span class="p">,</span> <span class="n">c</span><span class="p">)</span> <span class="ow">in</span> <span class="nb">enumerate</span><span class="p">(</span><span class="n">row</span><span class="o">.</span><span class="n">replace</span><span class="p">(</span><span class="n">PAD</span><span class="p">,</span> <span class="s1">&#39;&#39;</span><span class="p">))</span>
             <span class="k">if</span> <span class="n">c</span> <span class="o">==</span> <span class="n">LIVE</span><span class="p">}</span>
    <span class="k">return</span> <span class="n">move</span><span class="p">(</span><span class="n">cells</span><span class="p">,</span> <span class="n">offset</span><span class="p">)</span>

<span class="k">def</span> <span class="nf">move</span><span class="p">(</span><span class="n">cells</span><span class="p">,</span> <span class="n">offset</span><span class="p">):</span>
    <span class="s2">&quot;Move/Translate/slide a set of cells by a (dx, dy) displacement/offset.&quot;</span>
    <span class="p">(</span><span class="n">dx</span><span class="p">,</span> <span class="n">dy</span><span class="p">)</span> <span class="o">=</span> <span class="n">offset</span>
    <span class="k">return</span> <span class="p">{(</span><span class="n">x</span><span class="o">+</span><span class="n">dx</span><span class="p">,</span> <span class="n">y</span><span class="o">+</span><span class="n">dy</span><span class="p">)</span> <span class="k">for</span> <span class="p">(</span><span class="n">x</span><span class="p">,</span> <span class="n">y</span><span class="p">)</span> <span class="ow">in</span> <span class="n">cells</span><span class="p">}</span>

<span class="n">blinker</span>     <span class="o">=</span> <span class="n">shape</span><span class="p">(</span><span class="s2">&quot;@@@&quot;</span><span class="p">)</span>
<span class="n">block</span>       <span class="o">=</span> <span class="n">shape</span><span class="p">(</span><span class="s2">&quot;@@</span><span class="se">\n</span><span class="s2">@@&quot;</span><span class="p">)</span>
<span class="n">beacon</span>      <span class="o">=</span> <span class="n">block</span> <span class="o">|</span> <span class="n">move</span><span class="p">(</span><span class="n">block</span><span class="p">,</span> <span class="p">(</span><span class="mi">2</span><span class="p">,</span> <span class="mi">2</span><span class="p">))</span>
<span class="n">toad</span>        <span class="o">=</span> <span class="n">shape</span><span class="p">(</span><span class="s2">&quot;<a href="/cdn-cgi/l/email-protection" class="__cf_email__" data-cfemail="b896f8">[email&#160;protected]</a>@@</span><span class="se">\n</span><span class="s2">@@@.&quot;</span><span class="p">)</span>
<span class="n">glider</span>      <span class="o">=</span> <span class="n">shape</span><span class="p">(</span><span class="s2">&quot;<a href="/cdn-cgi/l/email-protection" class="__cf_email__" data-cfemail="ecc2acc2">[email&#160;protected]</a></span><span class="se">\n</span><span class="s2"><a href="/cdn-cgi/l/email-protection" class="__cf_email__" data-cfemail="3f11117f">[email&#160;protected]</a></span><span class="se">\n</span><span class="s2">@@@&quot;</span><span class="p">)</span>
<span class="n">rpentomino</span>  <span class="o">=</span> <span class="n">shape</span><span class="p">(</span><span class="s2">&quot;<a href="/cdn-cgi/l/email-protection" class="__cf_email__" data-cfemail="0c224c">[email&#160;protected]</a>@</span><span class="se">\n</span><span class="s2">@@.</span><span class="se">\n</span><span class="s2"><a href="/cdn-cgi/l/email-protection" class="__cf_email__" data-cfemail="7a543a54">[email&#160;protected]</a>&quot;</span><span class="p">,</span> <span class="p">(</span><span class="mi">36</span><span class="p">,</span> <span class="mi">20</span><span class="p">))</span>
<span class="n">line</span>        <span class="o">=</span> <span class="n">shape</span><span class="p">(</span><span class="s2">&quot;<a href="/cdn-cgi/l/email-protection" class="__cf_email__" data-cfemail="ffd1bf">[email&#160;protected]</a>@@@@@@@<a href="/cdn-cgi/l/email-protection" class="__cf_email__" data-cfemail="d8f698">[email&#160;protected]</a>@@@@<a href="/cdn-cgi/l/email-protection" class="__cf_email__" data-cfemail="f2dcdcdcb2">[email&#160;protected]</a>@@<a href="/cdn-cgi/l/email-protection" class="__cf_email__" data-cfemail="f7d9d9d9d9d9d9b7">[email&#160;protected]</a>@@@@@@<a href="/cdn-cgi/l/email-protection" class="__cf_email__" data-cfemail="1a345a">[email&#160;protected]</a>@@@@&quot;</span><span class="p">,</span> <span class="p">(</span><span class="mi">10</span><span class="p">,</span> <span class="mi">10</span><span class="p">))</span>
<span class="n">growth</span>      <span class="o">=</span> <span class="n">shape</span><span class="p">(</span><span class="s2">&quot;@@@<a href="/cdn-cgi/l/email-protection" class="__cf_email__" data-cfemail="725c32">[email&#160;protected]</a></span><span class="se">\n</span><span class="s2">@</span><span class="se">\n</span><span class="s2"><a href="/cdn-cgi/l/email-protection" class="__cf_email__" data-cfemail="5d7373731d">[email&#160;protected]</a>@</span><span class="se">\n</span><span class="s2"><a href="/cdn-cgi/l/email-protection" class="__cf_email__" data-cfemail="4c620c">[email&#160;protected]</a>@<a href="/cdn-cgi/l/email-protection" class="__cf_email__" data-cfemail="83adc3">[email&#160;protected]</a></span><span class="se">\n</span><span class="s2">@<a href="/cdn-cgi/l/email-protection" class="__cf_email__" data-cfemail="e1cfa1cf">[email&#160;protected]</a>@&quot;</span><span class="p">,</span> <span class="p">(</span><span class="mi">10</span><span class="p">,</span> <span class="mi">10</span><span class="p">))</span>
</pre></div>

    </div>
</div>
</div>

</div>
<div class="cell border-box-sizing text_cell rendered"><div class="prompt input_prompt">
</div><div class="inner_cell">
<div class="text_cell_render border-box-sizing rendered_html">
<p>Here is how <code>shape</code> and <code>move</code> work:</p>

</div>
</div>
</div>
<div class="cell border-box-sizing code_cell rendered">
<div class="input">
<div class="prompt input_prompt">In&nbsp;[12]:</div>
<div class="inner_cell">
    <div class="input_area">
<div class=" highlight hl-ipython3"><pre><span></span><span class="n">shape</span><span class="p">(</span><span class="s2">&quot;&quot;&quot;@ @ .</span>
<span class="s2">         . @ @&quot;&quot;&quot;</span><span class="p">)</span>
</pre></div>

    </div>
</div>
</div>

<div class="output_wrapper">
<div class="output">


<div class="output_area">

    <div class="prompt output_prompt">Out[12]:</div>




<div class="output_text output_subarea output_execute_result">
<pre>{(3, 3), (4, 3), (4, 4), (5, 4)}</pre>
</div>

</div>

</div>
</div>

</div>
<div class="cell border-box-sizing code_cell rendered">
<div class="input">
<div class="prompt input_prompt">In&nbsp;[13]:</div>
<div class="inner_cell">
    <div class="input_area">
<div class=" highlight hl-ipython3"><pre><span></span><span class="n">block</span>
</pre></div>

    </div>
</div>
</div>

<div class="output_wrapper">
<div class="output">


<div class="output_area">

    <div class="prompt output_prompt">Out[13]:</div>




<div class="output_text output_subarea output_execute_result">
<pre>{(3, 3), (3, 4), (4, 3), (4, 4)}</pre>
</div>

</div>

</div>
</div>

</div>
<div class="cell border-box-sizing code_cell rendered">
<div class="input">
<div class="prompt input_prompt">In&nbsp;[14]:</div>
<div class="inner_cell">
    <div class="input_area">
<div class=" highlight hl-ipython3"><pre><span></span><span class="n">move</span><span class="p">(</span><span class="n">block</span><span class="p">,</span> <span class="p">(</span><span class="mi">100</span><span class="p">,</span> <span class="mi">200</span><span class="p">))</span>
</pre></div>

    </div>
</div>
</div>

<div class="output_wrapper">
<div class="output">


<div class="output_area">

    <div class="prompt output_prompt">Out[14]:</div>




<div class="output_text output_subarea output_execute_result">
<pre>{(103, 203), (103, 204), (104, 203), (104, 204)}</pre>
</div>

</div>

</div>
</div>

</div>
<div class="cell border-box-sizing text_cell rendered"><div class="prompt input_prompt">
</div><div class="inner_cell">
<div class="text_cell_render border-box-sizing rendered_html">
<p>Let's run some examples. If you are viewing a static notebook, you will only see the last generation; rerun each cell to see all the generations.</p>

</div>
</div>
</div>
<div class="cell border-box-sizing code_cell rendered">
<div class="input">
<div class="prompt input_prompt">In&nbsp;[15]:</div>
<div class="inner_cell">
    <div class="input_area">
<div class=" highlight hl-ipython3"><pre><span></span><span class="n">display_run</span><span class="p">(</span><span class="n">blinker</span><span class="p">)</span>
</pre></div>

    </div>
</div>
</div>

<div class="output_wrapper">
<div class="output">


<div class="output_area">

    <div class="prompt"></div>



<div class="output_html rendered_html output_subarea ">
Generation 10, Population 3
<pre>. . . . . . . . . .
. . . . . . . . . .
. . . . . . . . . .
. . . @ @ @ . . . .
. . . . . . . . . .
. . . . . . . . . .
. . . . . . . . . .
. . . . . . . . . .
. . . . . . . . . .
. . . . . . . . . .</pre>
</div>

</div>

</div>
</div>

</div>
<div class="cell border-box-sizing code_cell rendered">
<div class="input">
<div class="prompt input_prompt">In&nbsp;[16]:</div>
<div class="inner_cell">
    <div class="input_area">
<div class=" highlight hl-ipython3"><pre><span></span><span class="n">display_run</span><span class="p">(</span><span class="n">beacon</span><span class="p">)</span>
</pre></div>

    </div>
</div>
</div>

<div class="output_wrapper">
<div class="output">


<div class="output_area">

    <div class="prompt"></div>



<div class="output_html rendered_html output_subarea ">
Generation 10, Population 8
<pre>. . . . . . . . . .
. . . . . . . . . .
. . . . . . . . . .
. . . @ @ . . . . .
. . . @ @ . . . . .
. . . . . @ @ . . .
. . . . . @ @ . . .
. . . . . . . . . .
. . . . . . . . . .
. . . . . . . . . .</pre>
</div>

</div>

</div>
</div>

</div>
<div class="cell border-box-sizing code_cell rendered">
<div class="input">
<div class="prompt input_prompt">In&nbsp;[17]:</div>
<div class="inner_cell">
    <div class="input_area">
<div class=" highlight hl-ipython3"><pre><span></span><span class="n">display_run</span><span class="p">(</span><span class="n">toad</span><span class="p">)</span>
</pre></div>

    </div>
</div>
</div>

<div class="output_wrapper">
<div class="output">


<div class="output_area">

    <div class="prompt"></div>



<div class="output_html rendered_html output_subarea ">
Generation 10, Population 6
<pre>. . . . . . . . . .
. . . . . . . . . .
. . . . . . . . . .
. . . . @ @ @ . . .
. . . @ @ @ . . . .
. . . . . . . . . .
. . . . . . . . . .
. . . . . . . . . .
. . . . . . . . . .
. . . . . . . . . .</pre>
</div>

</div>

</div>
</div>

</div>
<div class="cell border-box-sizing code_cell rendered">
<div class="input">
<div class="prompt input_prompt">In&nbsp;[18]:</div>
<div class="inner_cell">
    <div class="input_area">
<div class=" highlight hl-ipython3"><pre><span></span><span class="n">display_run</span><span class="p">(</span><span class="n">glider</span><span class="p">,</span> <span class="mi">15</span><span class="p">)</span>
</pre></div>

    </div>
</div>
</div>

<div class="output_wrapper">
<div class="output">


<div class="output_area">

    <div class="prompt"></div>



<div class="output_html rendered_html output_subarea ">
Generation 15, Population 5
<pre>. . . . . . . . . .
. . . . . . . . . .
. . . . . . . . . .
. . . . . . . . . .
. . . . . . . . . .
. . . . . . . . . .
. . . . . . . . . .
. . . . . . . @ . .
. . . . . . . . @ @
. . . . . . . @ @ .</pre>
</div>

</div>

</div>
</div>

</div>
<div class="cell border-box-sizing code_cell rendered">
<div class="input">
<div class="prompt input_prompt">In&nbsp;[19]:</div>
<div class="inner_cell">
    <div class="input_area">
<div class=" highlight hl-ipython3"><pre><span></span><span class="n">display_run</span><span class="p">(</span><span class="n">rpentomino</span><span class="p">,</span> <span class="mi">130</span><span class="p">,</span> <span class="nb">range</span><span class="p">(</span><span class="mi">55</span><span class="p">),</span> <span class="nb">range</span><span class="p">(</span><span class="mi">40</span><span class="p">))</span>
</pre></div>

    </div>
</div>
</div>

<div class="output_wrapper">
<div class="output">


<div class="output_area">

    <div class="prompt"></div>



<div class="output_html rendered_html output_subarea ">
Generation 130, Population 178
<pre>. . . . . . . . . . . . . . . . . . . . . . . . . . . . . . . . . . . . . . . . . . . . . . . . . . . . . . .
. . . . . . . . . . . . . . . . . . . . . . . . . . . . . . . . . . . . . . . . . . . . . . . . . . . . . . .
. . . . . . . . . . . . . . . . . . . . . . . . . . . . . . . . . . . . . . . . . . . . . . . . . . . . . . .
. . . . . . . . . . . . . . . . . . . . . . . . . . . . . . . . . . . . . . . . . . . . . . . . . . . . . . .
. . . . . . . . . . . . . . . . . . . . . . . . . . . . . . . . . . . . . . . . . . . . . . . . . . . . . . .
. . . . . . . . . . . . . . . . . . . . . . . . . . . . . . . . @ . . . . . . . . . . . . . . . . . . . . . .
. . . . . . . . . . . . . . . . . . . . . . . . . . . . . . . . @ @ . . . . . . . . . . . . . @ . . . . . . .
. . . . . . . . . . . . . . . . . . . . . . . . . . . . . . . @ . @ . . . . . . . . . . . . . @ . . . . . . .
. . . . . . . . . . . . . . . . . . . . . . . . . . . . . . . . . . . . . . . . . . . . . . . @ . . . . . . .
. . . . . . . . . . . @ . . . . . . . . . . . . . . . . . . . . . . . . . . . . . . . . . . . . . . . . . . .
. . . . . . . . . @ @ @ @ . . . . . . . . . . . . . . . . . . . . . . . . . . . . . . . . . @ @ . . . . . . .
. . . . . @ . @ @ @ @ . @ @ . . . . . . . . . . . . . . . . . . . . . . @ @ . . . . . . . @ . @ @ . . . . . .
. . . @ @ . . @ @ . . @ @ @ . . . . . . . . . . . . . . . . . . . . . . @ @ . . . . . . . @ . @ . . . @ @ . .
. . . . . @ @ @ . . . @ @ . . . . . . . . . . . . . . . . . . . . . . . . . . . . . . . . . @ . . . . . . . .
. . . . . . . . . . . @ . . . . . . . . . . . . . . . . . . . . . . . . . . . . . . . . . . . . . . . . . . .
. . . . . . . . @ . @ . . . . . . . . . . . . . . . . . . . . . . @ @ . . . . . . . . . . . . . . . . . . . .
. . . . . . . . @ @ . . . . . . . . . . . . . . . . . @ . @ . . . @ @ . . . . . . . . . . . . . . . . . . . .
. . . . @ @ @ . . @ @ . . . . . . . . . . . . . . . . @ . @ . . . . . . . . . . . . . . . . @ @ . . . . . . .
. . . . @ @ . . . @ @ . . . . . . . . . . . . . . . . @ . . . . . . . . . . . . . . . . . @ @ @ . . @ @ . . .
. . . . @ . . . . . . . . . . . . . . . . . . . . . . . @ . . . . . . . . @ . . . . . . . @ . . @ . @ @ @ . .
. . . . @ @ . @ . . . . . . . . . . . . . . . . . . . . . . . . . . . @ @ . @ . . . . . . . @ . . . @ . @ . .
. . . . . @ @ @ . . . . . . . . . . . . . . . . . . . . . . . . @ . . . . . . @ . . . . . . . . . . . @ . . .
. . . . @ . . @ . . . . . . . . . . . . . . . . . . . . . . . @ . . . . . . @ . . . @ @ . . . . . . . . . . .
. . . . . @ . . . . . . . . . . . . . . . . . . . . . . . . @ . . . . . @ @ . . . @ . . @ . . . . . . . . . .
@ @ . @ @ @ . . . . . . . . . . . . . . . . . . . . . . . . @ . . @ . . . . . . . @ . . @ . . . . . . . . . .
. . @ @ . . . . . . . . . . . . . . . . . . . . . . . . . . @ @ . @ @ @ . . . . . . @ @ . . . . . . . . . . .
. . . @ @ . . . . . . . . . . . . . . . . . . . . . . . . . . . @ . . . @ . . . . . . . . . . . . . . . . . .
@ @ . @ @ . . . . . . . . . . @ @ . . . . . . . . . . . . . . . @ . . . . . . . . . . . . . . . . . . @ . . .
@ . . @ . . . . . . . . . . . @ @ . . . . . . . . . . . . . . . . . . @ . . . . . . . . . . . . . . . . @ @ .
@ @ @ . . . . . . . . . . . . . . . . . . . . . . . . . . . . . . . . . . . . . . . . . . . . . . . . @ @ . .
. . . . . . . . . . . . . . . . . . . . . . . . . . . . . . . . . . . . . . . . . . . . . . . . . . . . . . .
. . . . . . . . . . . . . . . . . . . . . . . . . . . . . . . . . . . . . . . . . . . . . . . . . . . . . . .
. . . @ . . . . . . . . . . . . . . . . . . . . . . . . . . . . . . . . . . . . . . . . . . . . . . . . . . .
. . @ @ . . . . . . . . . . . . . . . . . . . . . . . . . . . . . . . . . . . . . . . . . . . . . . . . . . .
. . @ . @ . @ @ . . . . . . . . . . . . . . . . . . . . . . . . . . . . . . . . . . . . . . . . . . . . . . .
. . @ . @ . @ @ . . . . . . . . . . . . . . . . . . . . . . . . . . . . . . . . . . . . . . . . . . . . . . .
. . @ . @ @ . . . . . . . . . . . . . . . . . . . . . . . . . . . . . . . . . . . . . . . . . . . . . . . . .
. . @ . @ . . . . . . . . . . . . . . . . . . . . . . . . . . . . . . . . . . . . . . . . . . . . . . . . . .
. . . . . . . . . . . . . . . . . . . . . . . . . . . . . . . . . . . . . . . . . . . . . . . . . . . . . . .
. . . . . . . . . . . . . . . . . . . . . . . . . . . . . . . . . . . . . . . . . . . . . . . . . . . . . . .</pre>
</div>

</div>

</div>
</div>

</div>
<div class="cell border-box-sizing code_cell rendered">
<div class="input">
<div class="prompt input_prompt">In&nbsp;[20]:</div>
<div class="inner_cell">
    <div class="input_area">
<div class=" highlight hl-ipython3"><pre><span></span><span class="n">zoo</span> <span class="o">=</span> <span class="p">(</span><span class="n">move</span><span class="p">(</span><span class="n">blinker</span><span class="p">,</span> <span class="p">(</span><span class="mi">5</span><span class="p">,</span> <span class="mi">25</span><span class="p">))</span> <span class="o">|</span> <span class="n">move</span><span class="p">(</span><span class="n">glider</span><span class="p">,</span> <span class="p">(</span><span class="mi">8</span><span class="p">,</span> <span class="mi">13</span><span class="p">))</span> <span class="o">|</span> <span class="n">move</span><span class="p">(</span><span class="n">blinker</span><span class="p">,</span> <span class="p">(</span><span class="mi">20</span><span class="p">,</span> <span class="mi">25</span><span class="p">))</span>  <span class="o">|</span>
       <span class="n">move</span><span class="p">(</span><span class="n">beacon</span><span class="p">,</span> <span class="p">(</span><span class="mi">24</span><span class="p">,</span> <span class="mi">25</span><span class="p">))</span> <span class="o">|</span> <span class="n">move</span><span class="p">(</span><span class="n">toad</span><span class="p">,</span> <span class="p">(</span><span class="mi">30</span><span class="p">,</span> <span class="mi">25</span><span class="p">))</span>  <span class="o">|</span> <span class="n">move</span><span class="p">(</span><span class="n">block</span><span class="p">,</span> <span class="p">(</span><span class="mi">13</span><span class="p">,</span> <span class="mi">25</span><span class="p">))</span> <span class="o">|</span> <span class="n">move</span><span class="p">(</span><span class="n">block</span><span class="p">,</span> <span class="p">(</span><span class="mi">17</span><span class="p">,</span> <span class="mi">33</span><span class="p">)))</span>

<span class="n">display_run</span><span class="p">(</span><span class="n">zoo</span><span class="p">,</span> <span class="mi">160</span><span class="p">,</span> <span class="nb">range</span><span class="p">(</span><span class="mi">50</span><span class="p">),</span> <span class="nb">range</span><span class="p">(</span><span class="mi">40</span><span class="p">))</span>
</pre></div>

    </div>
</div>
</div>

<div class="output_wrapper">
<div class="output">


<div class="output_area">

    <div class="prompt"></div>



<div class="output_html rendered_html output_subarea ">
Generation 160, Population 111
<pre>. . . . . . . . . . . . . . . . . . . . . . . . . . . . . . . . . . . . . . . . . . . . . . . . . .
. . . . . . . . . . . . . . . . . . . . . . . . . . . . . . . . . . . . . . . . . . . . . . . . . .
. . . . . . . . . . . . . . . . . . . . . . . . . . . . . . . . . . . . . . . . . . @ . . . . @ . .
. . . . . . . . . . . . . . . . . . . . . . . . . . . . . . . . . . . . . @ . . . @ . @ . . @ . . @
. . . . . . . . . . . . . . . . . . . . . . . . . . . . . . . . . . . @ @ . @ . . @ . @ @ . @ . . .
. . . . . . . . . . . . . . . . . . . . . . . . . . . . . . . . . . . @ @ . @ @ . . @ @ . . . @ . .
. . . . . . . . . . . . . . . . . . . . . . . . . . . . . . . . . . @ . . . @ . . . . . . . . . . .
. . . . . . . . . . . . . . . . . . . . . . . . . . . . . @ @ @ @ . @ @ @ @ @ . . . . . . . . . . .
. . . . . . . . . . . . . . . . . . . . . . . @ @ @ . . . @ . . . @ @ . . . . . . . . . . . . . . .
. . . . . . . . . . . . . . . . . . . . . . . . . . . . . . @ @ . . @ . @ . @ . . . . . . . . . . @
. . . . . . . . . . . . . . . . . . . . . . . . . . . . . . . . . @ . . . . . @ . . . . . . . . @ .
. . . . . . . . . . . . . . . . . . . . . . . . . . . . . . . . @ @ . @ @ . . @ . . . . . . . @ @ .
. . . . . . . . . . . . . . . . . . . . . . . . . . . . . . . . @ @ . . . . @ . . . . . . @ @ . @ .
. . . . . . . . . . . . . . . . . . . . . . . . . . . . . . . . . @ . . @ . . . . . . . . @ @ . @ @
. . . . . . . . . . . . . . . . . . . . . . . . . . . . . . . . . . @ @ @ . . . . . . . . @ @ . @ @
. . . . . . . . . . . . . . . . . . . . . . . . . . . . . . . . . . . @ . . . . . . . . . . . @ @ .
. . . . . . . . . . . . . . . . . . . . . . . . . . . . . . . . . . . . . . . . . . . . . . . . . .
. . . . . . . . . . . . . . . . . . . . . . . . . . . . . . . . . . . . . . . . . . . . . . . . . .
. . . . . . . . . . . . . . . . . . . . . . . . . . . . . . . . . . . . . . . . . . . . . . . . . .
. . . . . . . . . . . . . . . . . . . . . . . . . . . . . . . . . . . . . . . . . . . . . . . . . .
. . . . . . . . . . . . . . . . . . . . . . . . . . . . . . . . . . . . . . . . . @ @ . . . . . . .
. . . . . . . . . . . . . . . . . . . . . . . . . . . . . . . . . . . . . . . . . @ @ . . . . . . .
. . . . . . . . . . . . . . . . . . . . . . . . . . . . . . . . . . . . . . . . . . . . . . . . . .
. . . . . . . . . . . . . . . . . . . . . . . . . . . . . . . . . . . . . . . . . . . . . . . . . .
. . . . . . . . . . . . . . . . . . . . . . . . . . . . . . . . . . . . . . . . . . . . . . . . . .
. . . . . . . . . . . . . . . . . . . . . . . . . . . . . . . . . . . . . . . . . . . . . . . . . .
. . . . . . . . . . . . . . . . . . . . . . . . . . . . . . . . . . . . . . . . . . . . . . . . . .
. . . . . . . . . . . . . . . . . . . . . . . . . . . . . . . . . . . . . . . . . . . . . . . . . .
. . . . . . . . @ @ @ . . . . . @ @ . . . . . . . . . . . . . . . . . . . . . . . . . . . . . . . .
. . . . . . . . . . . . . . . @ . . @ . . . . . . . . . . . . . . . . . . . . . . . . . . . . . . .
. . . . . . . . . . . . . . . . @ @ . . . . . . . . . . . . . . . . . . . . . . . . . . . . . . . .
. . . . . . . . . . . . . . . . . . . . . . . . . . . . . . . . . . . . . . . . . . . . . . . . . .
. . . . . . . . . . . . . . . . . . . . . . . . . . . . . . . . . . . . . . . . . . . . . . . . . .
. . . . . . . . . . . . . . . . . . . . . . . . . . . . . . . . . @ @ . . . . . . . . . . . . . . .
. . . . . . . . . . . . . . . . . . . . . . . . . . . . . . . . . @ @ . . . . . . . . . . . . . . .
. . . . . . . . . . . . . . . . . . . . . . . . . . . . . . . . . . . . . . . . . . . . . . . . . .
. . . . . . . . . . . . . . . . . . . . . . . . . . . . . . . . . . . . . . . . . . . . . . . . . .
. . . . . . . . . . . . . . . . . . . . . . . . . . . . . . . . . . . . . . . . . . . . . . . . . .
. . . . . . . . . . . . . . . . . . . . . . . . . . . . . . . . . . . . . . . . . . . . . . . . . .
. . . . . . . . . . . . . . . . . . . . . . . . . . . . . . . . . . . . . . . . . . . . . . . . . .</pre>
</div>

</div>

</div>
</div>

</div>
<div class="cell border-box-sizing code_cell rendered">
<div class="input">
<div class="prompt input_prompt">In&nbsp;[21]:</div>
<div class="inner_cell">
    <div class="input_area">
<div class=" highlight hl-ipython3"><pre><span></span><span class="n">display_run</span><span class="p">(</span><span class="n">growth</span><span class="p">,</span> <span class="mi">100</span><span class="p">,</span> <span class="nb">range</span><span class="p">(</span><span class="mi">40</span><span class="p">),</span> <span class="nb">range</span><span class="p">(</span><span class="mi">40</span><span class="p">))</span>
</pre></div>

    </div>
</div>
</div>

<div class="output_wrapper">
<div class="output">


<div class="output_area">

    <div class="prompt"></div>



<div class="output_html rendered_html output_subarea ">
Generation 100, Population 72
<pre>. . . . . . . . . . . . . . . . . . . . . . . . . . . . . . . . . . . . . . . .
. . . . . . . . . . . . . . . . . . . . . . . . . . . . . . . . . . . . . . . .
. . . . . . . . . . . . . . . . . . . . . . . . . . . . . . . . . . . . . . . .
. . . . . . . . . . . . . . . . . . . . . . . . . . . . . . . . . . . . . . . .
. . . . . . . . . . . . . @ . . . @ @ . . . . . . . . . . . . . . . . . . . . .
. . . . . . . . . . . . @ . @ . . @ . @ . . . . . . . . . . . . . . . . . . . .
. . . . . . . . . . . . . @ . . . @ . . @ . . . . . . . . . . . . . . . . . . .
. . . . . . . . . . . . . . . . . . . . . . . . . . . . . . . . . . . . . . . .
. . . . . . . . . . . . @ @ . . . . @ . @ . . . . . . . . . . . . . . . . . . .
. . . . . . . . . . . @ @ @ @ . . . . . . . . . . . . . . . . . . . . . . . . .
. . . . . . . . . . @ @ @ . @ @ . @ @ . . . . . . . . . . . . . . . . . . . . .
. . . . . . . . . . @ @ . . . @ . @ @ @ . . . . . . . . . . . . . . . . . . . .
. . . . . . . . . @ @ @ . . . . . @ . . @ . . . . . . . . . . . . . . . . . . .
. . . . . . . @ @ @ @ @ . @ @ @ @ @ @ @ . . . . . . . . . . . . . . . . . . . .
. . . . . . . @ @ @ . @ @ @ @ @ @ @ @ . . . . . . . . . . . . . . . . . . . . .
. . . . . . . . . . @ @ . @ @ @ @ @ . . . . . . . . . . . . . . . . . . . . . .
. . . . . . . . . . . . . . . . . . . . . . . . . . . . . . . . . . . . . . . .
. . . . . . . . . . . . . . . . . . . . . . . . . . . . . . . . . . . . . . . .
. . . . . . . . . . . . . . . . . . . . . . . . . . . . . . . . . . . . . . . .
. . . . . . . . . . . . . . . . . . . . . . . . . . . . . . . . . . . . . . . .
. . . . . . . . . . . . . . . . . . . . . . . . . . . . . . . . . . . . . . . .
. . . . . . . . . . . . . . . . . . . . . . . . . . . . . . . . . . . . . . . .
. . . . . . . . . . . . . . . . . . . . . . . . . . . . . . . . . . . . . . . .
. . . . . . . . . . . . . . . . . . . . . . . . . . . . . . . . . . . . . . . .
. . . . . . . . . . . . . . . . . . . . . . . . . . . . . . . . . . . . . . . .
. . . . . . . . . . . . . . . . . . . . . . . . . . . . . . . . . . . . . . . .
. . . . . . . . . . . . . . . . . . . . . . . . . . . . . . . . . . . . . . . .
. . . . . . . . . . . . . . . . . . . . . . . . . . . . . . . . . . . . . . . .
. . . . . . . . . . . . . . . . . . . . . . . . . . . . . . . . . . . . . . . .
. . . . . . . . . . . . . . . . . . . . . . . . . . . . . . . . . . . . . . . .
. . . . . . . . . . . . . . . . . . . . . . . . . . . . . . . . . . . . . . . .
. . . . . . . . . . . . . . . . . . . . . . . . . . . . . . . . . . . . . . . .
. . . . . . . . . . . . . . . . . . . . . . . . . . . . . . . . . . . . . . . .
. . . . . . . . . . . . . . . . . . . . . . . . . . . . . . . . . . . . . . . .
. . . . . . . . . . . . . . . . . . . . . . . . . . . . . . . . . . . . . . . .
. . . . . . . . . . . . . . . . . . . . . . . . . . . . . . . . . . . . . . . .
. . . . . . . . . . . . . . . . . . . . . . . . . . . . . . . . . . . . . . . .
. . . . . . . . . . . . . . . . . . . . . . . . . . . . . . . . . . . . . . . .
. . . . . . . . . . . . . . . . . . . . . . . . . . . . . . . . . . . . . . . .
. . . . . . . . . . . . . . . . . . . . . . . . . . . . . . . . . . . . . . . .</pre>
</div>

</div>

</div>
</div>

</div>
<div class="cell border-box-sizing text_cell rendered"><div class="prompt input_prompt">
</div><div class="inner_cell">
<div class="text_cell_render border-box-sizing rendered_html">
<h1 id="Outside-of-IPython">Outside of IPython<a class="anchor-link" href="#Outside-of-IPython">&#182;</a></h1><p>If you want to run this code in your terminal, outside of an Ipython/Jupyter notebook, you can remove the line:</p>

<pre><code>from IPython.display import clear_output, display_html

</code></pre>
<p>and add these lines:</p>

<pre><code>def clear_output(): print("\033[;H\033[2J") # ANSI terminal home and clear

def display_html(text, raw=False): print(text)

def pre(text): return text

</code></pre>
<h1 id="Coding-Kata">Coding Kata<a class="anchor-link" href="#Coding-Kata">&#182;</a></h1><p>I once attended a <a href="https://en.wikipedia.org/wiki/Kata_(programming%29">code kata</a> in which one of the exercises was to write the Game of Life without using any conditional (e.g. <code>if</code>) statements.  I did it by using roughly the program shown here, but changing the lone <code>if</code> to a <code>filter</code> in <code>next_generation</code>:</p>

</div>
</div>
</div>
<div class="cell border-box-sizing code_cell rendered">
<div class="input">
<div class="prompt input_prompt">In&nbsp;[22]:</div>
<div class="inner_cell">
    <div class="input_area">
<div class=" highlight hl-ipython3"><pre><span></span><span class="k">def</span> <span class="nf">next_generation</span><span class="p">(</span><span class="n">world</span><span class="p">):</span>
    <span class="s2">&quot;The set of live cells in the next generation.&quot;</span>
    <span class="n">possible_cells</span> <span class="o">=</span> <span class="n">counts</span> <span class="o">=</span> <span class="n">neighbor_counts</span><span class="p">(</span><span class="n">world</span><span class="p">)</span>
    <span class="k">def</span> <span class="nf">good</span><span class="p">(</span><span class="n">cell</span><span class="p">):</span> <span class="k">return</span> <span class="n">counts</span><span class="p">[</span><span class="n">cell</span><span class="p">]</span> <span class="o">==</span> <span class="mi">3</span> <span class="ow">or</span> <span class="p">(</span><span class="n">counts</span><span class="p">[</span><span class="n">cell</span><span class="p">]</span> <span class="o">==</span> <span class="mi">2</span> <span class="ow">and</span> <span class="n">cell</span> <span class="ow">in</span> <span class="n">world</span><span class="p">)</span>
    <span class="k">return</span> <span class="nb">set</span><span class="p">(</span><span class="nb">filter</span><span class="p">(</span><span class="n">good</span><span class="p">,</span> <span class="n">possible_cells</span><span class="p">))</span>
</pre></div>

    </div>
</div>
</div>

</div>
 


    </div>
  </div>

  </div>


  
    <footer class="footer hidden-print">
      <div class="container">
        <div class="col-md-4">
          <p>
            This website does not host notebooks, it only renders notebooks
            available on other websites.
          </p>
        </div>

        <div class="col-md-4">
          <p>
            Delivered by <a href="https://www.fastly.com/">Fastly</a>,
            Rendered by <a href="https://ovhcloud.com">OVHCloud</a>
          </p>
          <p>
            nbviewer GitHub <a href="https://github.com/jupyter/nbviewer">repository</a>.
          </p>
        </div>

        <div class="col-md-4">
          
  
            
              <p>
                nbviewer version:
                <a href="https://github.com/jupyter/nbviewer/commit/e83752b49e1663d3feb1c157d31fb51451f11c0a">
                  e83752b
                </a>
              </p>
            
          
  
  <p>
    nbconvert version: <a href="https://github.com/jupyter/nbconvert/releases/tag/5.6.1">
      5.6.1
    </a>
  </p>
  

          
  
  
  <p>
    Rendered
    <span class='date' data-date='Thu, 11 Jun 2020 16:52:50 UTC' title='Thu, 11 Jun 2020 16:52:50 UTC'>(Thu, 11 Jun 2020 16:52:50 UTC)</span>
  </p>
  

        </div>
      </div>
    </footer>
  

  <script data-cfasync="false" src="/cdn-cgi/scripts/5c5dd728/cloudflare-static/email-decode.min.js"></script><script src="/static/components/bootstrap/js/bootstrap.min.js"></script>
  <script src="/static/components/headroom.js/dist/headroom.min.js"></script>
  <script src="/static/components/headroom.js/dist/jQuery.headroom.min.js"></script>

  
  
  <script>
    $(function(){ $("#menubar").headroom({
      tolerance: 5,
      offset: 205,
      classes: {
        initial: "animated",
        pinned: "slideInDown",
        unpinned: "slideOutUp"
      }
    })});
  </script>


  
  <script>
    (function(i,s,o,g,r,a,m){i['GoogleAnalyticsObject']=r;i[r]=i[r]||function(){
      (i[r].q=i[r].q||[]).push(arguments)},i[r].l=1*new Date();a=s.createElement(o),
      m=s.getElementsByTagName(o)[0];a.async=1;a.src=g;m.parentNode.insertBefore(a,m)
    })(window,document,'script','https://www.google-analytics.com/analytics.js','ga');
    ga('create', 'UA-52617120-5', 'auto',
       {'storage': 'none'});
    ga('set', 'anonymizeIp', true);
    ga('send', 'pageview');
  </script>
  
  <script>
    require({
        paths: {
          moment: "/static/components/moment/min/moment.min.js"
        }
      }, ["moment"], function(moment){
      var date = $("footer .date"),
        m = moment(new Date(date.data('date'))),
        update = function(){ date.text(m.fromNow()); };
      setInterval(update, 61*1000);
      update();
      var w = $(window).scroll(function(event){
        $("body").toggleClass("scrolled", w.scrollTop() > 0);
      });
    });
  </script>

  <!--NEW RELIC Stop Perf Measurement-->
  
  <!--NEW RELIC End-->
</body>
</html>